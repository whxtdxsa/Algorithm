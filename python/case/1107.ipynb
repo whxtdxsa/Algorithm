{
 "cells": [
  {
   "cell_type": "code",
   "execution_count": 208,
   "metadata": {},
   "outputs": [],
   "source": [
    "class RC:\n",
    "    def __init__(self, brokens):\n",
    "        self.normal_buttons = [x for x in range(0, 10) if x not in brokens]\n",
    "        \n",
    "        self.original_target = 100\n",
    "        self.reduced_target = 100\n",
    "\n",
    "        self.first_digit = 0\n",
    "        self.zero_button = False\n",
    "        self.smaller_normal_buttons = []\n",
    "        self.bigger_normal_buttons = []\n",
    "\n",
    "    def initTarget(self, target):\n",
    "        self.original_target = target\n",
    "        target_string = str(target)\n",
    "        non_exist_digit = len(target_string) - 1\n",
    "        for idx, i in enumerate(target_string):\n",
    "            if int(i) not in self.normal_buttons:\n",
    "                non_exist_digit = idx\n",
    "                if i == '0': non_exist_digit -= 1\n",
    "                break\n",
    "\n",
    "        self.reduced_target = int(target_string[non_exist_digit:])\n",
    "        print(non_exist_digit, self.reduced_target)\n",
    "        self.first_digit = self.reduced_target // 10**(len(str(self.reduced_target))-1)\n",
    "        self.splitBrokens()\n",
    "\n",
    "    def splitBrokens(self):\n",
    "        for button in self.normal_buttons:\n",
    "            if button == 0: self.zero_button = True\n",
    "            elif button < self.first_digit: self.smaller_normal_buttons.append(button)\n",
    "            elif button > self.first_digit: self.bigger_normal_buttons.append(button)\n",
    "            else: \n",
    "                self.smaller_normal_buttons.append(button)\n",
    "                self.bigger_normal_buttons.append(button)\n",
    "\n",
    "    def getUpperBound(self):\n",
    "        smallest_button = self.normal_buttons[0]\n",
    "        upper_channel = 0\n",
    "\n",
    "        if self.bigger_normal_buttons:\n",
    "            upper_channel = self.bigger_normal_buttons[0] * 10 ** (len(str(self.reduced_target))-1)\n",
    "            for i in range(len(str(self.reduced_target)) - 1):\n",
    "                upper_channel += smallest_button * 10**i\n",
    "\n",
    "        elif self.zero_button:\n",
    "                upper_channel += self.smaller_normal_buttons[0] * 10 ** len(str(self.reduced_target))\n",
    "\n",
    "        else:\n",
    "            for i in range(len(str(self.reduced_target)) + 1):\n",
    "                upper_channel += smallest_button * 10**i\n",
    "                \n",
    "        return upper_channel\n",
    "\n",
    "    def getLowerBound(self):\n",
    "        biggest_button = self.normal_buttons[-1]\n",
    "        lower_channel = 0\n",
    "\n",
    "        if self.smaller_normal_buttons:\n",
    "            lower_channel = self.smaller_normal_buttons[-1] * 10 ** (len(str(self.reduced_target))-1)\n",
    "            for i in range(len(str(self.reduced_target)) - 1):\n",
    "                lower_channel += biggest_button * 10**i\n",
    "\n",
    "        else:\n",
    "            for i in range(len(str(self.reduced_target)) - 1):\n",
    "                lower_channel += biggest_button * 10**i\n",
    "\n",
    "        return lower_channel\n",
    "    \n",
    "    def getLeastSolution(self):\n",
    "        candidate = list(map(lambda x: abs(self.reduced_target - x), (self.getLowerBound(), self.getUpperBound())))\n",
    "\n",
    "        candidate.append(abs(self.original_target - 100))\n",
    "\n",
    "        print(candidate)\n",
    "\n",
    "        least_error = min(candidate) + len(str(self.original_target))\n",
    "        return least_error"
   ]
  },
  {
   "cell_type": "code",
   "execution_count": 182,
   "metadata": {},
   "outputs": [
    {
     "name": "stdout",
     "output_type": "stream",
     "text": [
      "6\n"
     ]
    }
   ],
   "source": [
    "def main():\n",
    "    N, M = int(input()), int(input())\n",
    "    input_brokens = map(int, input().split())\n",
    "    controller = RC(input_brokens)\n",
    "    controller.initTarget(N)\n",
    "    print(controller.getLeastSolution())\n",
    "main()"
   ]
  },
  {
   "cell_type": "code",
   "execution_count": 209,
   "metadata": {},
   "outputs": [
    {
     "name": "stdout",
     "output_type": "stream",
     "text": [
      "0 500000\n",
      "511111\n",
      "555555\n",
      "[55555, 11111, 499900]\n",
      "11117\n"
     ]
    }
   ],
   "source": [
    "N, M = 500000, 8\n",
    "input_brokens = 0, 2, 3, 4, 6, 7, 8, 9\n",
    "\n",
    "controller = RC(input_brokens)\n",
    "controller.initTarget(N)\n",
    "print(controller.getUpperBound())\n",
    "print(controller.getLowerBound())\n",
    "print(controller.getLeastSolution())\n"
   ]
  }
 ],
 "metadata": {
  "kernelspec": {
   "display_name": "Python 3",
   "language": "python",
   "name": "python3"
  },
  "language_info": {
   "codemirror_mode": {
    "name": "ipython",
    "version": 3
   },
   "file_extension": ".py",
   "mimetype": "text/x-python",
   "name": "python",
   "nbconvert_exporter": "python",
   "pygments_lexer": "ipython3",
   "version": "3.11.4"
  }
 },
 "nbformat": 4,
 "nbformat_minor": 2
}
